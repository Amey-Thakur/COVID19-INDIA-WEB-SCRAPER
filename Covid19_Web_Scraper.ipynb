{
  "nbformat": 4,
  "nbformat_minor": 0,
  "metadata": {
    "colab": {
      "name": "Covid19-Web-Scraper.ipynb",
      "private_outputs": true,
      "provenance": [],
      "authorship_tag": "ABX9TyOXiduneos8imyC1GClaQQo",
      "include_colab_link": true
    },
    "kernelspec": {
      "name": "python3",
      "display_name": "Python 3"
    },
    "language_info": {
      "name": "python"
    }
  },
  "cells": [
    {
      "cell_type": "markdown",
      "metadata": {
        "id": "view-in-github",
        "colab_type": "text"
      },
      "source": [
        "<a href=\"https://colab.research.google.com/github/Amey-Thakur/COVID19-INDIA-WEB-SCRAPER/blob/main/Covid19_Web_Scraper.ipynb\" target=\"_parent\"><img src=\"https://colab.research.google.com/assets/colab-badge.svg\" alt=\"Open In Colab\"/></a>"
      ]
    },
    {
      "cell_type": "code",
      "execution_count": null,
      "metadata": {
        "id": "fBJQFdGcYZAd"
      },
      "outputs": [],
      "source": [
        "import pandas as pd\n",
        "import seaborn as sns\n",
        "import matplotlib.pyplot as plt\n",
        "import requests \n",
        "from bs4 import BeautifulSoup\n",
        "from prettytable import PrettyTable\n",
        "\n",
        "# offical ministry of health website\n",
        "url = 'https://www.mohfw.gov.in/' \n",
        "\n",
        "# make a GET request to fetch the raw HTML content\n",
        "web_content = requests.get(url).content\n",
        "\n",
        "# parse the html content\n",
        "soup = BeautifulSoup(web_content, \"html.parser\")\n",
        "\n",
        "# remove any newlines and extra spaces from left and right\n",
        "extract_contents = lambda row: [x.text.replace('\\n', '') for x in row] \n",
        "\n",
        "stats = [] # initialize stats\n",
        "all_rows = soup.find_all('tr') # find all table rows \n",
        "\n",
        "for row in all_rows: \n",
        "    stat = extract_contents(row.find_all('td')) # find all data cells  \n",
        "    # notice that the data that we require is now a list of length 5\n",
        "    if len(stat) == 5: \n",
        "        stats.append(stat)\n",
        "\n",
        "\n",
        "# now convert the data into a pandas dataframe for further processing\n",
        "new_cols = [\"Sr.No\", \"States/UT\",\"Confirmed\",\"Recovered\",\"Deceased\"]\n",
        "state_data = pd.DataFrame(data = stats, columns = new_cols)\n",
        "\n",
        "# converting the 'string' data to 'int'\n",
        "state_data['Confirmed'] = state_data['Confirmed'].map(int)\n",
        "state_data['Recovered'] = state_data['Recovered'].map(int)\n",
        "state_data['Deceased']  = state_data['Deceased'].map(int)\n",
        "\n",
        "# pretty table representation\n",
        "table = PrettyTable()\n",
        "table.field_names = (new_cols)\n",
        "for i in stats:\n",
        "    table.add_row(i)\n",
        "table.add_row([\"\",\"Total\", \n",
        "               sum(state_data['Confirmed']), \n",
        "               sum(state_data['Recovered']), \n",
        "               sum(state_data['Deceased'])])\n",
        "print(table)\n",
        "\n",
        "\n",
        "# barplot to show total confirmed cases Statewise \n",
        "sns.set_style(\"ticks\")\n",
        "plt.figure(figsize = (15,10))\n",
        "plt.barh(state_data[\"States/UT\"], state_data[\"Confirmed\"].map(int),\n",
        "         align = 'center', color = 'lightblue', edgecolor = 'blue')\n",
        "plt.xlabel('No. of Confirmed cases', fontsize = 18)\n",
        "plt.ylabel('States/UT', fontsize = 18)\n",
        "plt.gca().invert_yaxis()   # this is to maintain the order in which the states appear\n",
        "plt.xticks(fontsize = 14) \n",
        "plt.yticks(fontsize = 14)\n",
        "plt.title('Total Confirmed Cases Statewise', fontsize = 20)\n",
        "\n",
        "for index, value in enumerate(state_data[\"Confirmed\"]):\n",
        "    plt.text(value, index, str(value), fontsize = 12, verticalalignment = 'center')\n",
        "plt.show()  \n",
        "\n",
        "\n",
        "# donut chart representing nationwide total confirmed, cured and deceased cases\n",
        "group_size = [sum(state_data['Confirmed']), \n",
        "              sum(state_data['Recovered']), \n",
        "              sum(state_data['Deceased'])]\n",
        "\n",
        "group_labels = ['Confirmed\\n' + str(sum(state_data['Confirmed'])), \n",
        "                'Recovered\\n' + str(sum(state_data['Recovered'])), \n",
        "                'Deceased\\n'  + str(sum(state_data['Deceased']))]\n",
        "custom_colors = ['skyblue','yellowgreen','tomato']\n",
        "\n",
        "plt.figure(figsize = (5,5))\n",
        "plt.pie(group_size, labels = group_labels, colors = custom_colors)\n",
        "central_circle = plt.Circle((0,0), 0.5, color = 'white')\n",
        "fig = plt.gcf()\n",
        "fig.gca().add_artist(central_circle)\n",
        "plt.rc('font', size = 12) \n",
        "plt.title('Nationwide total Confirmed, Recovered and Deceased Cases', fontsize = 16)\n",
        "plt.show()"
      ]
    }
  ]
}